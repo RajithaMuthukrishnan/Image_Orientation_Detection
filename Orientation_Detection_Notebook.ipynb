{
 "cells": [
  {
   "cell_type": "markdown",
   "metadata": {},
   "source": [
    "# Object orientation classification\n",
    "\n",
    "Objective : Find the angle between the positions of an object when rotated.\n",
    "\n",
    "Dataset from: http://campar.in.tum.de/personal/slavcheva/3d-printed-dataset/index.html"
   ]
  },
  {
   "cell_type": "code",
   "execution_count": 1,
   "metadata": {},
   "outputs": [],
   "source": [
    "import os\n",
    "import glob\n",
    "import numpy as np\n",
    "import skimage.io\n",
    "from skimage.transform import resize\n",
    "import sklearn.model_selection\n",
    "from tensorflow.keras.models import Model\n",
    "\n",
    "from sklearn.utils import shuffle\n",
    "\n",
    "from tensorflow import keras\n",
    "\n",
    "import matplotlib.pyplot as plt"
   ]
  },
  {
   "cell_type": "markdown",
   "metadata": {},
   "source": [
    "#### Functions for image manipulation - crop, resize images"
   ]
  },
  {
   "cell_type": "code",
   "execution_count": 2,
   "metadata": {},
   "outputs": [],
   "source": [
    "def read_images(img_files):\n",
    "    out_arr = []\n",
    "    for file in img_files:\n",
    "        img = skimage.io.imread(file)\n",
    "        out_arr.append(img)\n",
    "    out_arr = np.array(out_arr)\n",
    "    return out_arr\n",
    "\n",
    "def crop_images(arr):\n",
    "    img_crp = []\n",
    "    for i in range(len(arr)):\n",
    "        img_crp.append(skimage.util.crop(arr[i],((190,90),(120,140),(0,0))))\n",
    "    img_crp = np.array(img_crp)\n",
    "    return img_crp\n",
    "\n",
    "\n",
    "def resize_images(arr):\n",
    "    rs_img = []\n",
    "    for img in range(len(arr)):\n",
    "        rs_img.append(resize(arr[img],(100,70)))\n",
    "    rs_img = np.array(rs_img)\n",
    "    return rs_img"
   ]
  },
  {
   "cell_type": "markdown",
   "metadata": {},
   "source": [
    "#### Functions to plot accuracy and loss"
   ]
  },
  {
   "cell_type": "code",
   "execution_count": 3,
   "metadata": {},
   "outputs": [],
   "source": [
    "def plot_acc(hist):\n",
    "    fig = plt.figure()\n",
    "    plt.suptitle('Accuracy vs epochs')\n",
    "    plt.plot(hist.history['accuracy'], label='Trianing accuracy')\n",
    "    plt.plot(hist.history['val_accuracy'], label='Validation accuracy')\n",
    "    plt.legend()\n",
    "\n",
    "def plot_loss(hist):\n",
    "    fig = plt.figure()\n",
    "    plt.suptitle('Loss vs epochs')\n",
    "    plt.plot(hist.history['loss'], label='Trianing loss')\n",
    "    plt.plot(hist.history['val_loss'], label='Validation loss')\n",
    "    plt.legend()\n",
    "    \n",
    "def plot_mse(hist):\n",
    "    fig = plt.figure()\n",
    "    plt.suptitle('MSE vs epochs')\n",
    "    plt.plot(hist.history['mse'], label='Trianing MSE')\n",
    "    plt.plot(hist.history['val_mse'], label='Validation MSE')\n",
    "    plt.legend()"
   ]
  },
  {
   "cell_type": "markdown",
   "metadata": {},
   "source": [
    "## Read image files"
   ]
  },
  {
   "cell_type": "code",
   "execution_count": 4,
   "metadata": {},
   "outputs": [],
   "source": [
    "image_files = sorted(glob.glob('Synthetic_Leopard_Circle/*.png'))"
   ]
  },
  {
   "cell_type": "code",
   "execution_count": 5,
   "metadata": {},
   "outputs": [
    {
     "name": "stdout",
     "output_type": "stream",
     "text": [
      "Number of images read: 120\n",
      "Shape of images read: (120, 480, 640, 3)\n"
     ]
    }
   ],
   "source": [
    "images = read_images(image_files)\n",
    "print('Number of images read:', len(images))\n",
    "print('Shape of images read:', images.shape)"
   ]
  },
  {
   "cell_type": "markdown",
   "metadata": {},
   "source": [
    "# 2. Data Preparation"
   ]
  },
  {
   "cell_type": "markdown",
   "metadata": {},
   "source": [
    "### Process images"
   ]
  },
  {
   "cell_type": "code",
   "execution_count": 6,
   "metadata": {},
   "outputs": [
    {
     "name": "stdout",
     "output_type": "stream",
     "text": [
      "Images cropped to size: 200x380\n"
     ]
    }
   ],
   "source": [
    "# Crop images\n",
    "images_crp = crop_images(images)\n",
    "print('Images cropped to size: {}x{}'.format(images_crp[0].shape[0], images_crp[1].shape[1]) )"
   ]
  },
  {
   "cell_type": "code",
   "execution_count": 7,
   "metadata": {},
   "outputs": [],
   "source": [
    "# Helper function to normalize data in the range [-1,1]\n",
    "def normalize(x):\n",
    "    return (x.astype(float) - 128)/128\n",
    "\n",
    "images_norm = normalize(images_crp)"
   ]
  },
  {
   "cell_type": "code",
   "execution_count": 8,
   "metadata": {},
   "outputs": [
    {
     "name": "stdout",
     "output_type": "stream",
     "text": [
      "Images resized to: 100x70\n"
     ]
    }
   ],
   "source": [
    "# Resize images\n",
    "image_trans = resize_images(images_norm)\n",
    "print('Images resized to: {}x{}'.format(image_trans[0].shape[0], image_trans[1].shape[1]))"
   ]
  },
  {
   "cell_type": "markdown",
   "metadata": {},
   "source": [
    "### Randomly split 120 images for train, validation and test (90:10:20) which will be used as start positions"
   ]
  },
  {
   "cell_type": "code",
   "execution_count": 9,
   "metadata": {},
   "outputs": [
    {
     "name": "stdout",
     "output_type": "stream",
     "text": [
      "No. of start position images in TRAIN: 90\n",
      "No. of start position images in VALIDATION: 10\n",
      "No. of start position images in TEST: 20\n"
     ]
    }
   ],
   "source": [
    "np.random.seed(42)\n",
    "index = np.array(range(0,120))\n",
    "\n",
    "shuffle_index = shuffle(index)\n",
    "\n",
    "train_idx = shuffle_index[:90]\n",
    "val_idx = shuffle_index[90:100]\n",
    "test_idx = shuffle_index[100:120]\n",
    "\n",
    "print('No. of start position images in TRAIN:',len(train_idx))\n",
    "print('No. of start position images in VALIDATION:',len(val_idx))\n",
    "print('No. of start position images in TEST:',len(test_idx))"
   ]
  },
  {
   "cell_type": "markdown",
   "metadata": {},
   "source": [
    "### Create image pairs and labels for images in train, validation, test set with an angle offset -45 to +45"
   ]
  },
  {
   "cell_type": "code",
   "execution_count": 10,
   "metadata": {},
   "outputs": [],
   "source": [
    "def create_pairs_labels(start_positions,img_arr):\n",
    "    pairs = []\n",
    "    labels = []\n",
    "    img_offset_values = np.array(range(-15,16))\n",
    "    for idx in (start_positions):\n",
    "        for j in range(len(img_offset_values)):\n",
    "            img1 = img_arr[idx]\n",
    "            j2 = img_offset_values[j]\n",
    "            i2 = idx+j2\n",
    "            if i2 >= 120:\n",
    "                i2 = i2 % 120\n",
    "            img2 = img_arr[(i2)]\n",
    "            pairs.append(np.concatenate((img1, img2), axis=2))\n",
    "            labels.append(j2*3)\n",
    "    pairs = np.array(pairs)\n",
    "    labels = np.array(labels)\n",
    "    return pairs, labels"
   ]
  },
  {
   "cell_type": "markdown",
   "metadata": {},
   "source": [
    "#### Image pairs created are only used for parts 3(Classification) and 4(Regressor)"
   ]
  },
  {
   "cell_type": "code",
   "execution_count": 11,
   "metadata": {},
   "outputs": [
    {
     "name": "stdout",
     "output_type": "stream",
     "text": [
      "Total number of pairs:\n",
      "Train : 2790\n",
      "Validation: 310\n",
      "Tets: 620\n",
      "\n",
      "\n",
      "Shape of image pairs:\n",
      "Train: (2790, 100, 70, 6)\n",
      "Validation: (310, 100, 70, 6)\n",
      "Test: (620, 100, 70, 6)\n"
     ]
    }
   ],
   "source": [
    "X_train, Y_train = create_pairs_labels(train_idx, image_trans)\n",
    "X_val, Y_val = create_pairs_labels(val_idx, image_trans)\n",
    "X_test, Y_test = create_pairs_labels(test_idx, image_trans)\n",
    "\n",
    "print('Total number of pairs:')\n",
    "print('Train :', len(X_train))\n",
    "print('Validation:',len(X_val))\n",
    "print('Tets:',len(X_test))\n",
    "print('\\n')\n",
    "print('Shape of image pairs:')\n",
    "print('Train:',X_train.shape)\n",
    "print('Validation:',X_val.shape)\n",
    "print('Test:', X_test.shape)"
   ]
  },
  {
   "cell_type": "markdown",
   "metadata": {},
   "source": [
    "# 3. Classification Network"
   ]
  },
  {
   "cell_type": "markdown",
   "metadata": {},
   "source": [
    "#### Function for one hot encoding of labels"
   ]
  },
  {
   "cell_type": "code",
   "execution_count": 12,
   "metadata": {},
   "outputs": [],
   "source": [
    "def one_hot_encode(label_arr):\n",
    "    one_hot = np.zeros((len(label_arr), 31))\n",
    "    lab_ref = np.array(range(-15,16))*3\n",
    "    for el in range(len(label_arr)):\n",
    "        ind = np.where(lab_ref == label_arr[el])\n",
    "        one_hot[el,ind] = 1\n",
    "    return one_hot"
   ]
  },
  {
   "cell_type": "markdown",
   "metadata": {},
   "source": [
    "#### Convert labels to one hot encoded labels"
   ]
  },
  {
   "cell_type": "code",
   "execution_count": 13,
   "metadata": {},
   "outputs": [
    {
     "name": "stdout",
     "output_type": "stream",
     "text": [
      "Shape of one hot encoded labels:\n",
      "Train set labels: (2790, 31)\n",
      "Validation set labels: (310, 31)\n",
      "Test set labels: (620, 31)\n"
     ]
    }
   ],
   "source": [
    "Y_train_oh = one_hot_encode(Y_train)\n",
    "Y_val_oh = one_hot_encode(Y_val)\n",
    "Y_test_oh = one_hot_encode(Y_test)\n",
    "\n",
    "print('Shape of one hot encoded labels:')\n",
    "print('Train set labels:',Y_train_oh.shape)\n",
    "print('Validation set labels:',Y_val_oh.shape)\n",
    "print('Test set labels:',Y_test_oh.shape)"
   ]
  },
  {
   "cell_type": "markdown",
   "metadata": {},
   "source": [
    "### Classification CNN model"
   ]
  },
  {
   "cell_type": "code",
   "execution_count": 14,
   "metadata": {},
   "outputs": [
    {
     "name": "stdout",
     "output_type": "stream",
     "text": [
      "Model: \"sequential\"\n",
      "_________________________________________________________________\n",
      "Layer (type)                 Output Shape              Param #   \n",
      "=================================================================\n",
      "conv2d (Conv2D)              (None, 100, 70, 16)       400       \n",
      "_________________________________________________________________\n",
      "max_pooling2d (MaxPooling2D) (None, 50, 35, 16)        0         \n",
      "_________________________________________________________________\n",
      "conv2d_1 (Conv2D)            (None, 50, 35, 32)        2080      \n",
      "_________________________________________________________________\n",
      "max_pooling2d_1 (MaxPooling2 (None, 25, 17, 32)        0         \n",
      "_________________________________________________________________\n",
      "flatten (Flatten)            (None, 13600)             0         \n",
      "_________________________________________________________________\n",
      "dropout (Dropout)            (None, 13600)             0         \n",
      "_________________________________________________________________\n",
      "dense (Dense)                (None, 200)               2720200   \n",
      "_________________________________________________________________\n",
      "dense_1 (Dense)              (None, 31)                6231      \n",
      "=================================================================\n",
      "Total params: 2,728,911\n",
      "Trainable params: 2,728,911\n",
      "Non-trainable params: 0\n",
      "_________________________________________________________________\n"
     ]
    }
   ],
   "source": [
    "classif_model = keras.Sequential([\n",
    "    keras.layers.Conv2D(16, (2,2), activation='relu', padding='same', input_shape=(100,70,6)),\n",
    "    keras.layers.MaxPooling2D((2,2)),\n",
    "    keras.layers.Conv2D(32, (2,2), activation='relu', padding='same'), \n",
    "    keras.layers.MaxPooling2D((2,2)),\n",
    "    keras.layers.Flatten(),\n",
    "    keras.layers.Dropout(0.2),\n",
    "    keras.layers.Dense(200, activation='relu'),\n",
    "    keras.layers.Dense(31, activation='softmax'),\n",
    "])\n",
    "\n",
    "classif_model.summary()"
   ]
  },
  {
   "cell_type": "code",
   "execution_count": 15,
   "metadata": {},
   "outputs": [
    {
     "name": "stdout",
     "output_type": "stream",
     "text": [
      "Epoch 1/60\n",
      "140/140 [==============================] - 6s 40ms/step - loss: 3.5902 - accuracy: 0.0410 - val_loss: 2.9327 - val_accuracy: 0.1226\n",
      "Epoch 2/60\n",
      "140/140 [==============================] - 5s 38ms/step - loss: 2.7233 - accuracy: 0.1575 - val_loss: 2.1036 - val_accuracy: 0.3000\n",
      "Epoch 3/60\n",
      "140/140 [==============================] - 5s 39ms/step - loss: 1.9660 - accuracy: 0.2964 - val_loss: 1.7949 - val_accuracy: 0.3548\n",
      "Epoch 4/60\n",
      "140/140 [==============================] - 6s 40ms/step - loss: 1.6358 - accuracy: 0.3793 - val_loss: 1.4435 - val_accuracy: 0.4645\n",
      "Epoch 5/60\n",
      "140/140 [==============================] - 6s 40ms/step - loss: 1.4072 - accuracy: 0.4319 - val_loss: 1.2521 - val_accuracy: 0.5226\n",
      "Epoch 6/60\n",
      "140/140 [==============================] - 6s 40ms/step - loss: 1.2196 - accuracy: 0.5065 - val_loss: 1.2095 - val_accuracy: 0.5065\n",
      "Epoch 7/60\n",
      "140/140 [==============================] - 6s 39ms/step - loss: 1.1013 - accuracy: 0.5395 - val_loss: 1.0791 - val_accuracy: 0.5806\n",
      "Epoch 8/60\n",
      "140/140 [==============================] - 6s 40ms/step - loss: 1.0150 - accuracy: 0.5687 - val_loss: 0.9991 - val_accuracy: 0.5613\n",
      "Epoch 9/60\n",
      "140/140 [==============================] - 6s 40ms/step - loss: 0.9215 - accuracy: 0.5962 - val_loss: 0.9226 - val_accuracy: 0.6355\n",
      "Epoch 10/60\n",
      "140/140 [==============================] - 6s 40ms/step - loss: 0.8386 - accuracy: 0.6328 - val_loss: 0.8526 - val_accuracy: 0.6290\n",
      "Epoch 11/60\n",
      "140/140 [==============================] - 6s 40ms/step - loss: 0.8334 - accuracy: 0.6388 - val_loss: 0.7620 - val_accuracy: 0.6968\n",
      "Epoch 12/60\n",
      "140/140 [==============================] - 6s 40ms/step - loss: 0.7178 - accuracy: 0.7044 - val_loss: 0.7743 - val_accuracy: 0.6839\n",
      "Epoch 13/60\n",
      "140/140 [==============================] - 6s 39ms/step - loss: 0.7120 - accuracy: 0.6898 - val_loss: 0.7487 - val_accuracy: 0.6903\n",
      "Epoch 14/60\n",
      "140/140 [==============================] - 5s 39ms/step - loss: 0.7355 - accuracy: 0.6699 - val_loss: 0.7148 - val_accuracy: 0.6903\n",
      "Epoch 15/60\n",
      "140/140 [==============================] - 6s 39ms/step - loss: 0.6602 - accuracy: 0.6977 - val_loss: 0.6338 - val_accuracy: 0.7516\n",
      "Epoch 16/60\n",
      "140/140 [==============================] - 6s 40ms/step - loss: 0.6125 - accuracy: 0.7428 - val_loss: 0.6667 - val_accuracy: 0.7355\n",
      "Epoch 17/60\n",
      "140/140 [==============================] - 6s 40ms/step - loss: 0.6251 - accuracy: 0.7250 - val_loss: 0.6175 - val_accuracy: 0.7323\n",
      "Epoch 18/60\n",
      "140/140 [==============================] - 6s 40ms/step - loss: 0.5764 - accuracy: 0.7472 - val_loss: 0.5962 - val_accuracy: 0.7419\n",
      "Epoch 19/60\n",
      "140/140 [==============================] - 5s 39ms/step - loss: 0.5681 - accuracy: 0.7582 - val_loss: 0.9394 - val_accuracy: 0.5742\n",
      "Epoch 20/60\n",
      "140/140 [==============================] - 5s 39ms/step - loss: 0.6379 - accuracy: 0.7151 - val_loss: 0.4999 - val_accuracy: 0.8161\n",
      "Epoch 21/60\n",
      "140/140 [==============================] - 5s 39ms/step - loss: 0.4850 - accuracy: 0.8003 - val_loss: 0.5366 - val_accuracy: 0.7774\n",
      "Epoch 22/60\n",
      "140/140 [==============================] - 6s 40ms/step - loss: 0.4997 - accuracy: 0.7790 - val_loss: 0.4556 - val_accuracy: 0.8516\n",
      "Epoch 23/60\n",
      "140/140 [==============================] - 6s 39ms/step - loss: 0.4617 - accuracy: 0.8055 - val_loss: 0.5765 - val_accuracy: 0.7226\n",
      "Epoch 24/60\n",
      "140/140 [==============================] - 6s 40ms/step - loss: 0.4880 - accuracy: 0.8013 - val_loss: 0.5152 - val_accuracy: 0.7645\n",
      "Epoch 25/60\n",
      "140/140 [==============================] - 6s 41ms/step - loss: 0.4467 - accuracy: 0.8122 - val_loss: 0.8495 - val_accuracy: 0.6613\n",
      "Epoch 26/60\n",
      "140/140 [==============================] - 6s 41ms/step - loss: 0.5653 - accuracy: 0.7645 - val_loss: 0.4439 - val_accuracy: 0.8194\n",
      "Epoch 27/60\n",
      "140/140 [==============================] - 6s 42ms/step - loss: 0.4127 - accuracy: 0.8243 - val_loss: 0.7565 - val_accuracy: 0.6290\n",
      "Epoch 28/60\n",
      "140/140 [==============================] - 6s 41ms/step - loss: 0.5011 - accuracy: 0.7907 - val_loss: 0.4621 - val_accuracy: 0.8065\n",
      "Epoch 29/60\n",
      "140/140 [==============================] - 6s 41ms/step - loss: 0.4051 - accuracy: 0.8209 - val_loss: 0.4126 - val_accuracy: 0.8419\n",
      "Epoch 30/60\n",
      "140/140 [==============================] - 6s 41ms/step - loss: 0.3657 - accuracy: 0.8464 - val_loss: 0.4805 - val_accuracy: 0.7903\n",
      "Epoch 31/60\n",
      "140/140 [==============================] - 6s 41ms/step - loss: 0.3791 - accuracy: 0.8451 - val_loss: 0.4193 - val_accuracy: 0.8355\n",
      "Epoch 32/60\n",
      "140/140 [==============================] - 6s 41ms/step - loss: 0.3545 - accuracy: 0.8525 - val_loss: 0.3367 - val_accuracy: 0.8871\n",
      "Epoch 33/60\n",
      "140/140 [==============================] - 6s 41ms/step - loss: 0.3624 - accuracy: 0.8556 - val_loss: 0.5205 - val_accuracy: 0.7774\n",
      "Epoch 34/60\n",
      "140/140 [==============================] - 6s 42ms/step - loss: 0.4012 - accuracy: 0.8297 - val_loss: 0.5077 - val_accuracy: 0.8065\n",
      "Epoch 35/60\n",
      "140/140 [==============================] - 6s 43ms/step - loss: 0.5028 - accuracy: 0.8121 - val_loss: 0.3752 - val_accuracy: 0.8581\n",
      "Epoch 36/60\n",
      "140/140 [==============================] - 6s 44ms/step - loss: 0.3645 - accuracy: 0.8514 - val_loss: 0.3218 - val_accuracy: 0.8903\n",
      "Epoch 37/60\n",
      "140/140 [==============================] - 6s 43ms/step - loss: 0.3258 - accuracy: 0.8738 - val_loss: 0.4085 - val_accuracy: 0.8032\n",
      "Epoch 38/60\n",
      "140/140 [==============================] - 7s 50ms/step - loss: 0.3600 - accuracy: 0.8540 - val_loss: 0.5167 - val_accuracy: 0.7323\n",
      "Epoch 39/60\n",
      "140/140 [==============================] - 6s 45ms/step - loss: 0.3547 - accuracy: 0.8478 - val_loss: 0.3566 - val_accuracy: 0.8323\n",
      "Epoch 40/60\n",
      "140/140 [==============================] - 6s 44ms/step - loss: 0.3214 - accuracy: 0.8718 - val_loss: 0.3121 - val_accuracy: 0.8871\n",
      "Epoch 41/60\n",
      "140/140 [==============================] - 7s 47ms/step - loss: 0.2724 - accuracy: 0.8918 - val_loss: 0.3970 - val_accuracy: 0.8742\n",
      "Epoch 42/60\n",
      "140/140 [==============================] - 6s 46ms/step - loss: 0.3481 - accuracy: 0.8511 - val_loss: 0.3216 - val_accuracy: 0.8871\n",
      "Epoch 43/60\n",
      "140/140 [==============================] - 6s 43ms/step - loss: 0.2913 - accuracy: 0.8737 - val_loss: 0.3238 - val_accuracy: 0.8839\n",
      "Epoch 44/60\n",
      "140/140 [==============================] - 7s 53ms/step - loss: 0.2826 - accuracy: 0.8853 - val_loss: 0.4124 - val_accuracy: 0.8290\n",
      "Epoch 45/60\n",
      "140/140 [==============================] - 7s 52ms/step - loss: 0.3325 - accuracy: 0.8533 - val_loss: 0.2849 - val_accuracy: 0.8806\n",
      "Epoch 46/60\n",
      "140/140 [==============================] - 6s 46ms/step - loss: 0.2850 - accuracy: 0.8968 - val_loss: 0.2841 - val_accuracy: 0.9000\n",
      "Epoch 47/60\n",
      "140/140 [==============================] - 6s 45ms/step - loss: 0.2693 - accuracy: 0.8918 - val_loss: 0.3479 - val_accuracy: 0.8806\n",
      "Epoch 48/60\n",
      "140/140 [==============================] - 7s 47ms/step - loss: 0.2849 - accuracy: 0.8822 - val_loss: 0.4056 - val_accuracy: 0.8613\n",
      "Epoch 49/60\n",
      "140/140 [==============================] - 6s 45ms/step - loss: 0.3554 - accuracy: 0.8805 - val_loss: 0.3933 - val_accuracy: 0.8516\n",
      "Epoch 50/60\n",
      "140/140 [==============================] - 6s 43ms/step - loss: 0.2821 - accuracy: 0.8845 - val_loss: 0.2981 - val_accuracy: 0.9032\n",
      "Epoch 51/60\n",
      "140/140 [==============================] - 7s 47ms/step - loss: 0.2677 - accuracy: 0.8932 - val_loss: 0.3313 - val_accuracy: 0.8742\n",
      "Epoch 52/60\n",
      "140/140 [==============================] - 7s 53ms/step - loss: 0.2899 - accuracy: 0.8876 - val_loss: 0.3104 - val_accuracy: 0.8903\n",
      "Epoch 53/60\n",
      "140/140 [==============================] - 7s 49ms/step - loss: 0.2563 - accuracy: 0.8937 - val_loss: 0.4792 - val_accuracy: 0.7742\n",
      "Epoch 54/60\n",
      "140/140 [==============================] - 7s 47ms/step - loss: 0.2925 - accuracy: 0.8890 - val_loss: 0.3214 - val_accuracy: 0.9032\n",
      "Epoch 55/60\n",
      "140/140 [==============================] - 7s 50ms/step - loss: 0.2734 - accuracy: 0.8860 - val_loss: 0.3320 - val_accuracy: 0.8645\n",
      "Epoch 56/60\n",
      "140/140 [==============================] - 7s 47ms/step - loss: 0.2532 - accuracy: 0.9034 - val_loss: 0.3071 - val_accuracy: 0.8548\n",
      "Epoch 57/60\n",
      "140/140 [==============================] - 6s 44ms/step - loss: 0.2311 - accuracy: 0.9041 - val_loss: 0.3088 - val_accuracy: 0.8613\n"
     ]
    },
    {
     "name": "stdout",
     "output_type": "stream",
     "text": [
      "Epoch 58/60\n",
      "140/140 [==============================] - 6s 45ms/step - loss: 0.2679 - accuracy: 0.8980 - val_loss: 0.3320 - val_accuracy: 0.8774\n",
      "Epoch 59/60\n",
      "140/140 [==============================] - 6s 42ms/step - loss: 0.2253 - accuracy: 0.9145 - val_loss: 0.3131 - val_accuracy: 0.8677\n",
      "Epoch 60/60\n",
      "140/140 [==============================] - 7s 47ms/step - loss: 0.2146 - accuracy: 0.9160 - val_loss: 0.6422 - val_accuracy: 0.7387\n"
     ]
    }
   ],
   "source": [
    "classif_model.compile(optimizer='adam', loss='categorical_crossentropy', metrics=['accuracy'])\n",
    "\n",
    "classif_model_history = classif_model.fit(X_train, Y_train_oh, epochs=60, batch_size=20,\n",
    "                                          validation_data=(X_val, Y_val_oh))"
   ]
  },
  {
   "cell_type": "markdown",
   "metadata": {},
   "source": [
    "#### Learning curve"
   ]
  },
  {
   "cell_type": "code",
   "execution_count": 16,
   "metadata": {},
   "outputs": [
    {
     "data": {
      "image/png": "[encoded data removed]",
      "text/plain": [
       "<Figure size 432x288 with 1 Axes>"
      ]
     },
     "metadata": {
      "needs_background": "light"
     },
     "output_type": "display_data"
    },
    {
     "data": {
      "image/png": "[encoded data removed]",
      "text/plain": [
       "<Figure size 432x288 with 1 Axes>"
      ]
     },
     "metadata": {
      "needs_background": "light"
     },
     "output_type": "display_data"
    }
   ],
   "source": [
    "plot_acc(classif_model_history)\n",
    "plot_loss(classif_model_history)"
   ]
  },
  {
   "cell_type": "code",
   "execution_count": 17,
   "metadata": {},
   "outputs": [
    {
     "name": "stdout",
     "output_type": "stream",
     "text": [
      "20/20 [==============================] - 0s 14ms/step - loss: 0.6183 - accuracy: 0.7403\n"
     ]
    }
   ],
   "source": [
    "classif_test_loss, classif_test_acc = classif_model.evaluate(X_test, Y_test_oh)"
   ]
  },
  {
   "cell_type": "code",
   "execution_count": 18,
   "metadata": {},
   "outputs": [
    {
     "name": "stdout",
     "output_type": "stream",
     "text": [
      "Accuracies:\n",
      "Train : 90.97%\n",
      "Validation : 73.87%\n",
      "Test : 74.03%\n"
     ]
    }
   ],
   "source": [
    "print('Accuracies:')\n",
    "print('Train : {:.2f}%'.format((classif_model_history.history.get('accuracy')[-1])*100))\n",
    "print('Validation : {:.2f}%'.format((classif_model_history.history.get('val_accuracy')[-1])*100))\n",
    "print('Test : {:.2f}%'.format(classif_test_acc*100))"
   ]
  },
  {
   "cell_type": "markdown",
   "metadata": {},
   "source": [
    "## CNN Model - Prediction Example"
   ]
  },
  {
   "cell_type": "markdown",
   "metadata": {},
   "source": [
    "### Image 1"
   ]
  },
  {
   "cell_type": "code",
   "execution_count": 77,
   "metadata": {},
   "outputs": [
    {
     "name": "stderr",
     "output_type": "stream",
     "text": [
      "Clipping input data to the valid range for imshow with RGB data ([0..1] for floats or [0..255] for integers).\n"
     ]
    },
    {
     "data": {
      "text/plain": [
       "<matplotlib.image.AxesImage at 0x7fc14fdb02b0>"
      ]
     },
     "execution_count": 77,
     "metadata": {},
     "output_type": "execute_result"
    },
    {
     "data": {
      "image/png": "[encoded data removed]",
      "text/plain": [
       "<Figure size 432x288 with 1 Axes>"
      ]
     },
     "metadata": {
      "needs_background": "light"
     },
     "output_type": "display_data"
    }
   ],
   "source": [
    "plt.imshow(np.split(X_test[0], 2, axis=2)[0])"
   ]
  },
  {
   "cell_type": "markdown",
   "metadata": {},
   "source": [
    "### Image 2"
   ]
  },
  {
   "cell_type": "code",
   "execution_count": 78,
   "metadata": {
    "scrolled": true
   },
   "outputs": [
    {
     "name": "stderr",
     "output_type": "stream",
     "text": [
      "Clipping input data to the valid range for imshow with RGB data ([0..1] for floats or [0..255] for integers).\n"
     ]
    },
    {
     "data": {
      "text/plain": [
       "<matplotlib.image.AxesImage at 0x7fc154e74100>"
      ]
     },
     "execution_count": 78,
     "metadata": {},
     "output_type": "execute_result"
    },
    {
     "data": {
      "image/png": "[encoded data removed]",
      "text/plain": [
       "<Figure size 432x288 with 1 Axes>"
      ]
     },
     "metadata": {
      "needs_background": "light"
     },
     "output_type": "display_data"
    }
   ],
   "source": [
    "plt.imshow(np.split(X_test[0], 2, axis=2)[1])"
   ]
  },
  {
   "cell_type": "markdown",
   "metadata": {},
   "source": [
    "### Predicted angle difference"
   ]
  },
  {
   "cell_type": "code",
   "execution_count": 93,
   "metadata": {},
   "outputs": [
    {
     "name": "stdout",
     "output_type": "stream",
     "text": [
      "-45\n"
     ]
    }
   ],
   "source": [
    "print((np.array(range(-15,16))*3)[(np.argmax(classif_model.predict(X_test)[0]))])"
   ]
  },
  {
   "cell_type": "markdown",
   "metadata": {},
   "source": [
    "### Actual angle difference"
   ]
  },
  {
   "cell_type": "code",
   "execution_count": 106,
   "metadata": {},
   "outputs": [
    {
     "name": "stdout",
     "output_type": "stream",
     "text": [
      "-45\n"
     ]
    }
   ],
   "source": [
    "print((np.array(range(-15,16))*3)[(np.argmax((X_test)[0]))])"
   ]
  },
  {
   "cell_type": "markdown",
   "metadata": {},
   "source": [
    "# 4. Regression network"
   ]
  },
  {
   "cell_type": "markdown",
   "metadata": {},
   "source": [
    "#### Label values are changed to range [-1,1] for regressor. \n",
    "Each floating value corresponds to values -45 to 45."
   ]
  },
  {
   "cell_type": "code",
   "execution_count": 19,
   "metadata": {},
   "outputs": [],
   "source": [
    "Y_train_reg = np.round((Y_train/45), decimals=2)\n",
    "Y_val_reg = np.round((Y_val/45), decimals=2)\n",
    "Y_test_reg = np.round((Y_test/45), decimals=2)"
   ]
  },
  {
   "cell_type": "markdown",
   "metadata": {},
   "source": [
    "### Regressor model"
   ]
  },
  {
   "cell_type": "code",
   "execution_count": 20,
   "metadata": {},
   "outputs": [
    {
     "name": "stdout",
     "output_type": "stream",
     "text": [
      "Model: \"sequential_1\"\n",
      "_________________________________________________________________\n",
      "Layer (type)                 Output Shape              Param #   \n",
      "=================================================================\n",
      "conv2d_2 (Conv2D)            (None, 100, 70, 16)       400       \n",
      "_________________________________________________________________\n",
      "max_pooling2d_2 (MaxPooling2 (None, 50, 35, 16)        0         \n",
      "_________________________________________________________________\n",
      "conv2d_3 (Conv2D)            (None, 50, 35, 32)        2080      \n",
      "_________________________________________________________________\n",
      "max_pooling2d_3 (MaxPooling2 (None, 25, 17, 32)        0         \n",
      "_________________________________________________________________\n",
      "flatten_1 (Flatten)          (None, 13600)             0         \n",
      "_________________________________________________________________\n",
      "dense_2 (Dense)              (None, 31)                421631    \n",
      "_________________________________________________________________\n",
      "dense_3 (Dense)              (None, 1)                 32        \n",
      "=================================================================\n",
      "Total params: 424,143\n",
      "Trainable params: 424,143\n",
      "Non-trainable params: 0\n",
      "_________________________________________________________________\n"
     ]
    }
   ],
   "source": [
    "reg_model = keras.Sequential([\n",
    "    keras.layers.Conv2D(16, (2,2), activation='relu', padding='same', input_shape=(100,70,6)),\n",
    "    keras.layers.MaxPooling2D((2,2)),\n",
    "    keras.layers.Conv2D(32, (2,2), activation='relu', padding='same'), \n",
    "    keras.layers.MaxPooling2D((2,2)),\n",
    "    keras.layers.Flatten(),\n",
    "    keras.layers.Dense(31, activation='relu'),\n",
    "    keras.layers.Dense(1, activation='linear'),\n",
    "])\n",
    "\n",
    "reg_model.summary()"
   ]
  },
  {
   "cell_type": "code",
   "execution_count": 21,
   "metadata": {},
   "outputs": [
    {
     "name": "stdout",
     "output_type": "stream",
     "text": [
      "Epoch 1/10\n",
      "88/88 [==============================] - 5s 56ms/step - loss: 0.4025 - mse: 0.4025 - val_loss: 0.3303 - val_mse: 0.3303\n",
      "Epoch 2/10\n",
      "88/88 [==============================] - 5s 52ms/step - loss: 0.3384 - mse: 0.3384 - val_loss: 0.3031 - val_mse: 0.3031\n",
      "Epoch 3/10\n",
      "88/88 [==============================] - 4s 51ms/step - loss: 0.2555 - mse: 0.2555 - val_loss: 0.2425 - val_mse: 0.2425\n",
      "Epoch 4/10\n",
      "88/88 [==============================] - 5s 54ms/step - loss: 0.1721 - mse: 0.1721 - val_loss: 0.1468 - val_mse: 0.1468\n",
      "Epoch 5/10\n",
      "88/88 [==============================] - 5s 54ms/step - loss: 0.0899 - mse: 0.0899 - val_loss: 0.0658 - val_mse: 0.0658\n",
      "Epoch 6/10\n",
      "88/88 [==============================] - 4s 51ms/step - loss: 0.0353 - mse: 0.0353 - val_loss: 0.0362 - val_mse: 0.0362\n",
      "Epoch 7/10\n",
      "88/88 [==============================] - 4s 51ms/step - loss: 0.0201 - mse: 0.0201 - val_loss: 0.0204 - val_mse: 0.0204\n",
      "Epoch 8/10\n",
      "88/88 [==============================] - 5s 53ms/step - loss: 0.0149 - mse: 0.0149 - val_loss: 0.0189 - val_mse: 0.0189\n",
      "Epoch 9/10\n",
      "88/88 [==============================] - 4s 49ms/step - loss: 0.0097 - mse: 0.0097 - val_loss: 0.0108 - val_mse: 0.0108\n",
      "Epoch 10/10\n",
      "88/88 [==============================] - 4s 50ms/step - loss: 0.0065 - mse: 0.0065 - val_loss: 0.0089 - val_mse: 0.0089\n"
     ]
    }
   ],
   "source": [
    "reg_opt = keras.optimizers.Adam(lr=0.0001)\n",
    "reg_model.compile(optimizer=reg_opt, loss='mse', metrics=['mse'])\n",
    "reg_model_history = reg_model.fit(X_train, Y_train_reg, epochs=10,validation_data = (X_val, Y_val_reg))"
   ]
  },
  {
   "cell_type": "markdown",
   "metadata": {},
   "source": [
    "### Learning curve"
   ]
  },
  {
   "cell_type": "code",
   "execution_count": 22,
   "metadata": {},
   "outputs": [
    {
     "data": {
      "image/png": "[encoded data removed]",
      "text/plain": [
       "<Figure size 432x288 with 1 Axes>"
      ]
     },
     "metadata": {
      "needs_background": "light"
     },
     "output_type": "display_data"
    }
   ],
   "source": [
    "plot_mse(reg_model_history)"
   ]
  },
  {
   "cell_type": "code",
   "execution_count": 23,
   "metadata": {},
   "outputs": [
    {
     "name": "stdout",
     "output_type": "stream",
     "text": [
      "20/20 [==============================] - 0s 9ms/step - loss: 0.0100 - mse: 0.0100\n"
     ]
    }
   ],
   "source": [
    "reg_test_loss, reg_test_mse = reg_model.evaluate(X_test, Y_test_reg)"
   ]
  },
  {
   "cell_type": "code",
   "execution_count": 24,
   "metadata": {},
   "outputs": [
    {
     "name": "stdout",
     "output_type": "stream",
     "text": [
      "MSE:\n",
      "Train MSE :0.0069\n",
      "Validation MSE :0.0089\n",
      "Test MSE :0.0100\n"
     ]
    }
   ],
   "source": [
    "print('MSE:')\n",
    "print('Train MSE :{:.4f}'.format(reg_model_history.history.get('mse')[-1]))\n",
    "print('Validation MSE :{:.4f}'.format(reg_model_history.history.get('val_mse')[-1]))\n",
    "print('Test MSE :{:.4f}'.format(reg_test_mse))"
   ]
  },
  {
   "cell_type": "markdown",
   "metadata": {},
   "source": [
    "## Regression Model - Prediction Example"
   ]
  },
  {
   "cell_type": "markdown",
   "metadata": {},
   "source": [
    "### Image 1"
   ]
  },
  {
   "cell_type": "code",
   "execution_count": 99,
   "metadata": {},
   "outputs": [
    {
     "name": "stderr",
     "output_type": "stream",
     "text": [
      "Clipping input data to the valid range for imshow with RGB data ([0..1] for floats or [0..255] for integers).\n"
     ]
    },
    {
     "data": {
      "text/plain": [
       "<matplotlib.image.AxesImage at 0x7fc14f148d00>"
      ]
     },
     "execution_count": 99,
     "metadata": {},
     "output_type": "execute_result"
    },
    {
     "data": {
      "image/png": "[encoded data removed]",
      "text/plain": [
       "<Figure size 432x288 with 1 Axes>"
      ]
     },
     "metadata": {
      "needs_background": "light"
     },
     "output_type": "display_data"
    }
   ],
   "source": [
    "plt.imshow(np.split(X_test[2], 2, axis=2)[0])"
   ]
  },
  {
   "cell_type": "markdown",
   "metadata": {},
   "source": [
    "### Image 2"
   ]
  },
  {
   "cell_type": "code",
   "execution_count": 100,
   "metadata": {},
   "outputs": [
    {
     "name": "stderr",
     "output_type": "stream",
     "text": [
      "Clipping input data to the valid range for imshow with RGB data ([0..1] for floats or [0..255] for integers).\n"
     ]
    },
    {
     "data": {
      "text/plain": [
       "<matplotlib.image.AxesImage at 0x7fc14eaf1d00>"
      ]
     },
     "execution_count": 100,
     "metadata": {},
     "output_type": "execute_result"
    },
    {
     "data": {
      "image/png": "[encoded data removed]",
      "text/plain": [
       "<Figure size 432x288 with 1 Axes>"
      ]
     },
     "metadata": {
      "needs_background": "light"
     },
     "output_type": "display_data"
    }
   ],
   "source": [
    "plt.imshow(np.split(X_test[2], 2, axis=2)[1])"
   ]
  },
  {
   "cell_type": "markdown",
   "metadata": {},
   "source": [
    "### Predicted angle difference"
   ]
  },
  {
   "cell_type": "code",
   "execution_count": 105,
   "metadata": {},
   "outputs": [
    {
     "name": "stdout",
     "output_type": "stream",
     "text": [
      "-45\n"
     ]
    }
   ],
   "source": [
    "print((np.array(range(-15,16))*3)[(np.argmax(reg_model.predict(X_test)[2]))])"
   ]
  },
  {
   "cell_type": "markdown",
   "metadata": {},
   "source": [
    "### Actual angle difference"
   ]
  },
  {
   "cell_type": "code",
   "execution_count": 104,
   "metadata": {},
   "outputs": [
    {
     "name": "stdout",
     "output_type": "stream",
     "text": [
      "-45\n"
     ]
    }
   ],
   "source": [
    "print((np.array(range(-15,16))*3)[(np.argmax((X_test)[2]))])"
   ]
  },
  {
   "cell_type": "markdown",
   "metadata": {},
   "source": [
    "# 5. Basic Transfer Learning \n",
    "### - Using MobileNet V2\n",
    "##### Gray scale images are used for this part. Once the images are paired, 3rd channel of the paired images are left blank"
   ]
  },
  {
   "cell_type": "code",
   "execution_count": 25,
   "metadata": {},
   "outputs": [],
   "source": [
    "# Functions to convert RGB images to gray scale and to resize images to square images - 96x96\n",
    "def gray_scale(img_arr):\n",
    "    gray_images = []\n",
    "    for img in range(len(img_arr)):\n",
    "        gray_images.append(skimage.color.rgb2gray(img_arr[img]))\n",
    "    gray_images = np.array(gray_images)\n",
    "    return gray_images\n",
    "\n",
    "def resize_square(arr):\n",
    "    rs_img = []\n",
    "    for img in range(len(arr)):\n",
    "        rs_img.append(resize(arr[img],(96,96)))\n",
    "    rs_img = np.array(rs_img)\n",
    "    return rs_img"
   ]
  },
  {
   "cell_type": "markdown",
   "metadata": {},
   "source": [
    "#### Resize images to square images"
   ]
  },
  {
   "cell_type": "code",
   "execution_count": 26,
   "metadata": {},
   "outputs": [
    {
     "name": "stdout",
     "output_type": "stream",
     "text": [
      "Images resized to: 96x96\n"
     ]
    }
   ],
   "source": [
    "square_images = resize_square(images_norm)\n",
    "print('Images resized to: {}x{}'.format(square_images.shape[1],square_images.shape[2]))"
   ]
  },
  {
   "cell_type": "markdown",
   "metadata": {},
   "source": [
    "#### Convert images to gray-scale"
   ]
  },
  {
   "cell_type": "code",
   "execution_count": 27,
   "metadata": {},
   "outputs": [],
   "source": [
    "gray_images = gray_scale(square_images)"
   ]
  },
  {
   "cell_type": "markdown",
   "metadata": {},
   "source": [
    "#### Function to stack grayscale images in pairs with 3rd channel as blank. A blank image is created and added to the gray scale image pairs to set the 3rd channel of the image pairs blank."
   ]
  },
  {
   "cell_type": "code",
   "execution_count": 28,
   "metadata": {},
   "outputs": [],
   "source": [
    "def tl_img_pairs(start_positions,img_arr):\n",
    "    pairs = []\n",
    "    labels = []\n",
    "    # images with blank channel\n",
    "    blank = np.ones((96,96,1))\n",
    "    img_offset_values = np.array(range(-15,16))\n",
    "    for idx in (start_positions):\n",
    "        for j in range(len(img_offset_values)):\n",
    "            img1 = img_arr[idx]\n",
    "            j2 = img_offset_values[j]\n",
    "            i2 = idx+j2\n",
    "            if i2 >= 120:\n",
    "                i2 = i2 % 120\n",
    "            img2 = img_arr[(i2)]\n",
    "            s = np.stack((img1, img2), axis=2)\n",
    "            pairs.append(np.concatenate((s,blank),axis=2))\n",
    "            labels.append(j2*3)\n",
    "    pairs = np.array(pairs)\n",
    "    labels = np.array(labels)\n",
    "    return pairs, labels"
   ]
  },
  {
   "cell_type": "markdown",
   "metadata": {},
   "source": [
    "### Image pairs and train, validation, test sets split (90:10:20 - Start positions)"
   ]
  },
  {
   "cell_type": "code",
   "execution_count": 29,
   "metadata": {},
   "outputs": [
    {
     "name": "stdout",
     "output_type": "stream",
     "text": [
      "Total number of pairs:\n",
      "Train : 2790\n",
      "Validation: 310\n",
      "Tets: 620\n",
      "\n",
      "\n",
      "Shape of image pairs:\n",
      "Train: (2790, 96, 96, 3)\n",
      "Validation: (310, 96, 96, 3)\n",
      "Test: (620, 96, 96, 3)\n"
     ]
    }
   ],
   "source": [
    "X_train_tl, Y_train_tl = tl_img_pairs(train_idx,gray_images)\n",
    "X_val_tl, Y_val_tl = tl_img_pairs(val_idx,gray_images)\n",
    "X_test_tl, Y_test_tl = tl_img_pairs(test_idx,gray_images)\n",
    "print('Total number of pairs:')\n",
    "print('Train :', len(X_train_tl))\n",
    "print('Validation:',len(X_val_tl))\n",
    "print('Tets:',len(X_test_tl))\n",
    "print('\\n')\n",
    "print('Shape of image pairs:')\n",
    "print('Train:',X_train_tl.shape)\n",
    "print('Validation:',X_val_tl.shape)\n",
    "print('Test:', X_test_tl.shape)"
   ]
  },
  {
   "cell_type": "markdown",
   "metadata": {},
   "source": [
    "#### Label values are changed to range [-1,1] for regressor. \n",
    "Each floating value corresponds to values -45 to 45."
   ]
  },
  {
   "cell_type": "code",
   "execution_count": 30,
   "metadata": {},
   "outputs": [],
   "source": [
    "Y_train_tl_norm = np.round((Y_train_tl/45), decimals=2)\n",
    "Y_val_tl_norm = np.round((Y_val_tl/45), decimals=2)\n",
    "Y_test_tl_norm = np.round((Y_test_tl/45), decimals=2)"
   ]
  },
  {
   "cell_type": "markdown",
   "metadata": {},
   "source": [
    "### Model"
   ]
  },
  {
   "cell_type": "markdown",
   "metadata": {},
   "source": [
    "##### Import MobileNetV2 model with pretrained weights without the head."
   ]
  },
  {
   "cell_type": "code",
   "execution_count": 31,
   "metadata": {},
   "outputs": [],
   "source": [
    "mobile_base_model = keras.applications.MobileNetV2(\n",
    "    input_shape = (96,96,3),\n",
    "    weights = 'imagenet',\n",
    "    include_top = False\n",
    ")"
   ]
  },
  {
   "cell_type": "markdown",
   "metadata": {},
   "source": [
    "##### Freeze layers in base model"
   ]
  },
  {
   "cell_type": "code",
   "execution_count": 32,
   "metadata": {},
   "outputs": [],
   "source": [
    "for layer in mobile_base_model.layers:\n",
    "    layer.trainable = False"
   ]
  },
  {
   "cell_type": "markdown",
   "metadata": {},
   "source": [
    "##### Additional 73 layers are removed form the top for better performance and training speed. Only 8 blocks of MobileNetV2 are used."
   ]
  },
  {
   "cell_type": "code",
   "execution_count": 33,
   "metadata": {},
   "outputs": [],
   "source": [
    "for i in range(73):\n",
    "    mobile_base_model._layers.pop() "
   ]
  },
  {
   "cell_type": "markdown",
   "metadata": {},
   "source": [
    "##### Add layers to the base model"
   ]
  },
  {
   "cell_type": "code",
   "execution_count": 34,
   "metadata": {},
   "outputs": [
    {
     "name": "stdout",
     "output_type": "stream",
     "text": [
      "Model: \"model\"\n",
      "__________________________________________________________________________________________________\n",
      "Layer (type)                    Output Shape         Param #     Connected to                     \n",
      "==================================================================================================\n",
      "input_1 (InputLayer)            [(None, 96, 96, 3)]  0                                            \n",
      "__________________________________________________________________________________________________\n",
      "Conv1 (Conv2D)                  (None, 48, 48, 32)   864         input_1[0][0]                    \n",
      "__________________________________________________________________________________________________\n",
      "bn_Conv1 (BatchNormalization)   (None, 48, 48, 32)   128         Conv1[0][0]                      \n",
      "__________________________________________________________________________________________________\n",
      "Conv1_relu (ReLU)               (None, 48, 48, 32)   0           bn_Conv1[0][0]                   \n",
      "__________________________________________________________________________________________________\n",
      "expanded_conv_depthwise (Depthw (None, 48, 48, 32)   288         Conv1_relu[0][0]                 \n",
      "__________________________________________________________________________________________________\n",
      "expanded_conv_depthwise_BN (Bat (None, 48, 48, 32)   128         expanded_conv_depthwise[0][0]    \n",
      "__________________________________________________________________________________________________\n",
      "expanded_conv_depthwise_relu (R (None, 48, 48, 32)   0           expanded_conv_depthwise_BN[0][0] \n",
      "__________________________________________________________________________________________________\n",
      "expanded_conv_project (Conv2D)  (None, 48, 48, 16)   512         expanded_conv_depthwise_relu[0][0\n",
      "__________________________________________________________________________________________________\n",
      "expanded_conv_project_BN (Batch (None, 48, 48, 16)   64          expanded_conv_project[0][0]      \n",
      "__________________________________________________________________________________________________\n",
      "block_1_expand (Conv2D)         (None, 48, 48, 96)   1536        expanded_conv_project_BN[0][0]   \n",
      "__________________________________________________________________________________________________\n",
      "block_1_expand_BN (BatchNormali (None, 48, 48, 96)   384         block_1_expand[0][0]             \n",
      "__________________________________________________________________________________________________\n",
      "block_1_expand_relu (ReLU)      (None, 48, 48, 96)   0           block_1_expand_BN[0][0]          \n",
      "__________________________________________________________________________________________________\n",
      "block_1_pad (ZeroPadding2D)     (None, 49, 49, 96)   0           block_1_expand_relu[0][0]        \n",
      "__________________________________________________________________________________________________\n",
      "block_1_depthwise (DepthwiseCon (None, 24, 24, 96)   864         block_1_pad[0][0]                \n",
      "__________________________________________________________________________________________________\n",
      "block_1_depthwise_BN (BatchNorm (None, 24, 24, 96)   384         block_1_depthwise[0][0]          \n",
      "__________________________________________________________________________________________________\n",
      "block_1_depthwise_relu (ReLU)   (None, 24, 24, 96)   0           block_1_depthwise_BN[0][0]       \n",
      "__________________________________________________________________________________________________\n",
      "block_1_project (Conv2D)        (None, 24, 24, 24)   2304        block_1_depthwise_relu[0][0]     \n",
      "__________________________________________________________________________________________________\n",
      "block_1_project_BN (BatchNormal (None, 24, 24, 24)   96          block_1_project[0][0]            \n",
      "__________________________________________________________________________________________________\n",
      "block_2_expand (Conv2D)         (None, 24, 24, 144)  3456        block_1_project_BN[0][0]         \n",
      "__________________________________________________________________________________________________\n",
      "block_2_expand_BN (BatchNormali (None, 24, 24, 144)  576         block_2_expand[0][0]             \n",
      "__________________________________________________________________________________________________\n",
      "block_2_expand_relu (ReLU)      (None, 24, 24, 144)  0           block_2_expand_BN[0][0]          \n",
      "__________________________________________________________________________________________________\n",
      "block_2_depthwise (DepthwiseCon (None, 24, 24, 144)  1296        block_2_expand_relu[0][0]        \n",
      "__________________________________________________________________________________________________\n",
      "block_2_depthwise_BN (BatchNorm (None, 24, 24, 144)  576         block_2_depthwise[0][0]          \n",
      "__________________________________________________________________________________________________\n",
      "block_2_depthwise_relu (ReLU)   (None, 24, 24, 144)  0           block_2_depthwise_BN[0][0]       \n",
      "__________________________________________________________________________________________________\n",
      "block_2_project (Conv2D)        (None, 24, 24, 24)   3456        block_2_depthwise_relu[0][0]     \n",
      "__________________________________________________________________________________________________\n",
      "block_2_project_BN (BatchNormal (None, 24, 24, 24)   96          block_2_project[0][0]            \n",
      "__________________________________________________________________________________________________\n",
      "block_2_add (Add)               (None, 24, 24, 24)   0           block_1_project_BN[0][0]         \n",
      "                                                                 block_2_project_BN[0][0]         \n",
      "__________________________________________________________________________________________________\n",
      "block_3_expand (Conv2D)         (None, 24, 24, 144)  3456        block_2_add[0][0]                \n",
      "__________________________________________________________________________________________________\n",
      "block_3_expand_BN (BatchNormali (None, 24, 24, 144)  576         block_3_expand[0][0]             \n",
      "__________________________________________________________________________________________________\n",
      "block_3_expand_relu (ReLU)      (None, 24, 24, 144)  0           block_3_expand_BN[0][0]          \n",
      "__________________________________________________________________________________________________\n",
      "block_3_pad (ZeroPadding2D)     (None, 25, 25, 144)  0           block_3_expand_relu[0][0]        \n",
      "__________________________________________________________________________________________________\n",
      "block_3_depthwise (DepthwiseCon (None, 12, 12, 144)  1296        block_3_pad[0][0]                \n",
      "__________________________________________________________________________________________________\n",
      "block_3_depthwise_BN (BatchNorm (None, 12, 12, 144)  576         block_3_depthwise[0][0]          \n",
      "__________________________________________________________________________________________________\n",
      "block_3_depthwise_relu (ReLU)   (None, 12, 12, 144)  0           block_3_depthwise_BN[0][0]       \n",
      "__________________________________________________________________________________________________\n",
      "block_3_project (Conv2D)        (None, 12, 12, 32)   4608        block_3_depthwise_relu[0][0]     \n",
      "__________________________________________________________________________________________________\n",
      "block_3_project_BN (BatchNormal (None, 12, 12, 32)   128         block_3_project[0][0]            \n",
      "__________________________________________________________________________________________________\n",
      "block_4_expand (Conv2D)         (None, 12, 12, 192)  6144        block_3_project_BN[0][0]         \n",
      "__________________________________________________________________________________________________\n",
      "block_4_expand_BN (BatchNormali (None, 12, 12, 192)  768         block_4_expand[0][0]             \n",
      "__________________________________________________________________________________________________\n",
      "block_4_expand_relu (ReLU)      (None, 12, 12, 192)  0           block_4_expand_BN[0][0]          \n",
      "__________________________________________________________________________________________________\n",
      "block_4_depthwise (DepthwiseCon (None, 12, 12, 192)  1728        block_4_expand_relu[0][0]        \n",
      "__________________________________________________________________________________________________\n",
      "block_4_depthwise_BN (BatchNorm (None, 12, 12, 192)  768         block_4_depthwise[0][0]          \n",
      "__________________________________________________________________________________________________\n",
      "block_4_depthwise_relu (ReLU)   (None, 12, 12, 192)  0           block_4_depthwise_BN[0][0]       \n",
      "__________________________________________________________________________________________________\n",
      "block_4_project (Conv2D)        (None, 12, 12, 32)   6144        block_4_depthwise_relu[0][0]     \n",
      "__________________________________________________________________________________________________\n",
      "block_4_project_BN (BatchNormal (None, 12, 12, 32)   128         block_4_project[0][0]            \n",
      "__________________________________________________________________________________________________\n",
      "block_4_add (Add)               (None, 12, 12, 32)   0           block_3_project_BN[0][0]         \n",
      "                                                                 block_4_project_BN[0][0]         \n",
      "__________________________________________________________________________________________________\n",
      "block_5_expand (Conv2D)         (None, 12, 12, 192)  6144        block_4_add[0][0]                \n",
      "__________________________________________________________________________________________________\n",
      "block_5_expand_BN (BatchNormali (None, 12, 12, 192)  768         block_5_expand[0][0]             \n",
      "__________________________________________________________________________________________________\n",
      "block_5_expand_relu (ReLU)      (None, 12, 12, 192)  0           block_5_expand_BN[0][0]          \n",
      "__________________________________________________________________________________________________\n",
      "block_5_depthwise (DepthwiseCon (None, 12, 12, 192)  1728        block_5_expand_relu[0][0]        \n",
      "__________________________________________________________________________________________________\n",
      "block_5_depthwise_BN (BatchNorm (None, 12, 12, 192)  768         block_5_depthwise[0][0]          \n",
      "__________________________________________________________________________________________________\n",
      "block_5_depthwise_relu (ReLU)   (None, 12, 12, 192)  0           block_5_depthwise_BN[0][0]       \n",
      "__________________________________________________________________________________________________\n",
      "block_5_project (Conv2D)        (None, 12, 12, 32)   6144        block_5_depthwise_relu[0][0]     \n",
      "__________________________________________________________________________________________________\n",
      "block_5_project_BN (BatchNormal (None, 12, 12, 32)   128         block_5_project[0][0]            \n",
      "__________________________________________________________________________________________________\n",
      "block_5_add (Add)               (None, 12, 12, 32)   0           block_4_add[0][0]                \n",
      "                                                                 block_5_project_BN[0][0]         \n",
      "__________________________________________________________________________________________________\n",
      "block_6_expand (Conv2D)         (None, 12, 12, 192)  6144        block_5_add[0][0]                \n",
      "__________________________________________________________________________________________________\n",
      "block_6_expand_BN (BatchNormali (None, 12, 12, 192)  768         block_6_expand[0][0]             \n",
      "__________________________________________________________________________________________________\n",
      "block_6_expand_relu (ReLU)      (None, 12, 12, 192)  0           block_6_expand_BN[0][0]          \n",
      "__________________________________________________________________________________________________\n",
      "block_6_pad (ZeroPadding2D)     (None, 13, 13, 192)  0           block_6_expand_relu[0][0]        \n",
      "__________________________________________________________________________________________________\n",
      "block_6_depthwise (DepthwiseCon (None, 6, 6, 192)    1728        block_6_pad[0][0]                \n",
      "__________________________________________________________________________________________________\n",
      "block_6_depthwise_BN (BatchNorm (None, 6, 6, 192)    768         block_6_depthwise[0][0]          \n",
      "__________________________________________________________________________________________________\n",
      "block_6_depthwise_relu (ReLU)   (None, 6, 6, 192)    0           block_6_depthwise_BN[0][0]       \n",
      "__________________________________________________________________________________________________\n",
      "block_6_project (Conv2D)        (None, 6, 6, 64)     12288       block_6_depthwise_relu[0][0]     \n",
      "__________________________________________________________________________________________________\n",
      "block_6_project_BN (BatchNormal (None, 6, 6, 64)     256         block_6_project[0][0]            \n",
      "__________________________________________________________________________________________________\n",
      "block_7_expand (Conv2D)         (None, 6, 6, 384)    24576       block_6_project_BN[0][0]         \n",
      "__________________________________________________________________________________________________\n",
      "block_7_expand_BN (BatchNormali (None, 6, 6, 384)    1536        block_7_expand[0][0]             \n",
      "__________________________________________________________________________________________________\n",
      "block_7_expand_relu (ReLU)      (None, 6, 6, 384)    0           block_7_expand_BN[0][0]          \n",
      "__________________________________________________________________________________________________\n",
      "block_7_depthwise (DepthwiseCon (None, 6, 6, 384)    3456        block_7_expand_relu[0][0]        \n",
      "__________________________________________________________________________________________________\n",
      "block_7_depthwise_BN (BatchNorm (None, 6, 6, 384)    1536        block_7_depthwise[0][0]          \n",
      "__________________________________________________________________________________________________\n",
      "block_7_depthwise_relu (ReLU)   (None, 6, 6, 384)    0           block_7_depthwise_BN[0][0]       \n",
      "__________________________________________________________________________________________________\n",
      "block_7_project (Conv2D)        (None, 6, 6, 64)     24576       block_7_depthwise_relu[0][0]     \n",
      "__________________________________________________________________________________________________\n",
      "block_7_project_BN (BatchNormal (None, 6, 6, 64)     256         block_7_project[0][0]            \n",
      "__________________________________________________________________________________________________\n",
      "block_7_add (Add)               (None, 6, 6, 64)     0           block_6_project_BN[0][0]         \n",
      "                                                                 block_7_project_BN[0][0]         \n",
      "__________________________________________________________________________________________________\n",
      "block_8_expand (Conv2D)         (None, 6, 6, 384)    24576       block_7_add[0][0]                \n",
      "__________________________________________________________________________________________________\n",
      "block_8_expand_BN (BatchNormali (None, 6, 6, 384)    1536        block_8_expand[0][0]             \n",
      "__________________________________________________________________________________________________\n",
      "block_8_expand_relu (ReLU)      (None, 6, 6, 384)    0           block_8_expand_BN[0][0]          \n",
      "__________________________________________________________________________________________________\n",
      "block_8_depthwise (DepthwiseCon (None, 6, 6, 384)    3456        block_8_expand_relu[0][0]        \n",
      "__________________________________________________________________________________________________\n",
      "block_8_depthwise_BN (BatchNorm (None, 6, 6, 384)    1536        block_8_depthwise[0][0]          \n",
      "__________________________________________________________________________________________________\n",
      "block_8_depthwise_relu (ReLU)   (None, 6, 6, 384)    0           block_8_depthwise_BN[0][0]       \n",
      "__________________________________________________________________________________________________\n",
      "block_8_project (Conv2D)        (None, 6, 6, 64)     24576       block_8_depthwise_relu[0][0]     \n",
      "__________________________________________________________________________________________________\n",
      "block_8_project_BN (BatchNormal (None, 6, 6, 64)     256         block_8_project[0][0]            \n",
      "__________________________________________________________________________________________________\n",
      "block_8_add (Add)               (None, 6, 6, 64)     0           block_7_add[0][0]                \n",
      "                                                                 block_8_project_BN[0][0]         \n",
      "__________________________________________________________________________________________________\n",
      "conv2d_4 (Conv2D)               (None, 6, 6, 16)     1040        block_8_add[0][0]                \n",
      "__________________________________________________________________________________________________\n",
      "flatten_2 (Flatten)             (None, 576)          0           conv2d_4[0][0]                   \n",
      "__________________________________________________________________________________________________\n",
      "dropout_1 (Dropout)             (None, 576)          0           flatten_2[0][0]                  \n",
      "__________________________________________________________________________________________________\n",
      "dense_4 (Dense)                 (None, 100)          57700       dropout_1[0][0]                  \n",
      "__________________________________________________________________________________________________\n",
      "dense_5 (Dense)                 (None, 50)           5050        dense_4[0][0]                    \n",
      "__________________________________________________________________________________________________\n",
      "dense_6 (Dense)                 (None, 1)            51          dense_5[0][0]                    \n",
      "==================================================================================================\n",
      "Total params: 256,673\n",
      "Trainable params: 63,841\n",
      "Non-trainable params: 192,832\n",
      "__________________________________________________________________________________________________\n"
     ]
    }
   ],
   "source": [
    "x = mobile_base_model.layers[-1].output\n",
    "x = keras.layers.Conv2D(16, (1,1), activation='relu', padding='same')(x)\n",
    "x = keras.layers.Flatten()(x)\n",
    "x = keras.layers.Dropout(0.01)(x)\n",
    "x = keras.layers.Dense(100, activation='relu')(x)\n",
    "x = keras.layers.Dense(50, activation='relu')(x)\n",
    "x = keras.layers.Dense(1, activation='linear')(x)\n",
    "\n",
    "tl_model = Model(inputs=mobile_base_model.input, outputs=x)\n",
    "\n",
    "tl_model.summary()"
   ]
  },
  {
   "cell_type": "code",
   "execution_count": 35,
   "metadata": {},
   "outputs": [
    {
     "name": "stdout",
     "output_type": "stream",
     "text": [
      "Epoch 1/40\n",
      "88/88 [==============================] - 10s 105ms/step - loss: 4.8826 - mse: 4.8826 - val_loss: 0.2568 - val_mse: 0.2568\n",
      "Epoch 2/40\n",
      "88/88 [==============================] - 10s 108ms/step - loss: 0.2908 - mse: 0.2908 - val_loss: 0.1675 - val_mse: 0.1675\n",
      "Epoch 3/40\n",
      "88/88 [==============================] - 9s 105ms/step - loss: 0.1757 - mse: 0.1757 - val_loss: 0.1615 - val_mse: 0.1615\n",
      "Epoch 4/40\n",
      "88/88 [==============================] - 9s 105ms/step - loss: 0.1156 - mse: 0.1156 - val_loss: 0.0854 - val_mse: 0.0854\n",
      "Epoch 5/40\n",
      "88/88 [==============================] - 9s 101ms/step - loss: 0.0936 - mse: 0.0936 - val_loss: 0.0803 - val_mse: 0.0803\n",
      "Epoch 6/40\n",
      "88/88 [==============================] - 9s 99ms/step - loss: 0.0741 - mse: 0.0741 - val_loss: 0.0802 - val_mse: 0.0802\n",
      "Epoch 7/40\n",
      "88/88 [==============================] - 9s 103ms/step - loss: 0.0628 - mse: 0.0628 - val_loss: 0.0627 - val_mse: 0.0627\n",
      "Epoch 8/40\n",
      "88/88 [==============================] - 9s 105ms/step - loss: 0.0496 - mse: 0.0496 - val_loss: 0.0522 - val_mse: 0.0522\n",
      "Epoch 9/40\n",
      "88/88 [==============================] - 9s 108ms/step - loss: 0.0456 - mse: 0.0456 - val_loss: 0.0447 - val_mse: 0.0447\n",
      "Epoch 10/40\n",
      "88/88 [==============================] - 10s 112ms/step - loss: 0.0397 - mse: 0.0397 - val_loss: 0.0469 - val_mse: 0.0469\n",
      "Epoch 11/40\n",
      "88/88 [==============================] - 10s 109ms/step - loss: 0.0352 - mse: 0.0352 - val_loss: 0.0370 - val_mse: 0.0370\n",
      "Epoch 12/40\n",
      "88/88 [==============================] - 10s 108ms/step - loss: 0.0338 - mse: 0.0338 - val_loss: 0.0329 - val_mse: 0.0329\n",
      "Epoch 13/40\n",
      "88/88 [==============================] - 9s 104ms/step - loss: 0.0254 - mse: 0.0254 - val_loss: 0.0300 - val_mse: 0.0300\n",
      "Epoch 14/40\n",
      "88/88 [==============================] - 9s 104ms/step - loss: 0.0257 - mse: 0.0257 - val_loss: 0.0293 - val_mse: 0.0293\n",
      "Epoch 15/40\n",
      "88/88 [==============================] - 9s 106ms/step - loss: 0.0263 - mse: 0.0263 - val_loss: 0.0270 - val_mse: 0.0270\n",
      "Epoch 16/40\n",
      "88/88 [==============================] - 9s 108ms/step - loss: 0.0229 - mse: 0.0229 - val_loss: 0.0260 - val_mse: 0.0260\n",
      "Epoch 17/40\n",
      "88/88 [==============================] - 9s 104ms/step - loss: 0.0220 - mse: 0.0220 - val_loss: 0.0250 - val_mse: 0.0250\n",
      "Epoch 18/40\n",
      "88/88 [==============================] - 10s 115ms/step - loss: 0.0192 - mse: 0.0192 - val_loss: 0.0213 - val_mse: 0.0213\n",
      "Epoch 19/40\n",
      "88/88 [==============================] - 10s 111ms/step - loss: 0.0191 - mse: 0.0191 - val_loss: 0.0221 - val_mse: 0.0221\n",
      "Epoch 20/40\n",
      "88/88 [==============================] - 10s 118ms/step - loss: 0.0161 - mse: 0.0161 - val_loss: 0.0253 - val_mse: 0.0253\n",
      "Epoch 21/40\n",
      "88/88 [==============================] - 10s 113ms/step - loss: 0.0155 - mse: 0.0155 - val_loss: 0.0253 - val_mse: 0.0253\n",
      "Epoch 22/40\n",
      "88/88 [==============================] - 9s 104ms/step - loss: 0.0129 - mse: 0.0129 - val_loss: 0.0182 - val_mse: 0.0182\n",
      "Epoch 23/40\n",
      "88/88 [==============================] - 10s 109ms/step - loss: 0.0128 - mse: 0.0128 - val_loss: 0.0198 - val_mse: 0.0198\n",
      "Epoch 24/40\n",
      "88/88 [==============================] - 9s 103ms/step - loss: 0.0147 - mse: 0.0147 - val_loss: 0.0171 - val_mse: 0.0171\n",
      "Epoch 25/40\n",
      "88/88 [==============================] - 9s 103ms/step - loss: 0.0142 - mse: 0.0142 - val_loss: 0.0192 - val_mse: 0.0192\n",
      "Epoch 26/40\n",
      "88/88 [==============================] - 9s 102ms/step - loss: 0.0107 - mse: 0.0107 - val_loss: 0.0196 - val_mse: 0.0196\n",
      "Epoch 27/40\n",
      "88/88 [==============================] - 9s 102ms/step - loss: 0.0110 - mse: 0.0110 - val_loss: 0.0158 - val_mse: 0.0158\n",
      "Epoch 28/40\n",
      "88/88 [==============================] - 10s 109ms/step - loss: 0.0115 - mse: 0.0115 - val_loss: 0.0166 - val_mse: 0.0166\n",
      "Epoch 29/40\n",
      "88/88 [==============================] - 10s 109ms/step - loss: 0.0093 - mse: 0.0093 - val_loss: 0.0176 - val_mse: 0.0176\n",
      "Epoch 30/40\n",
      "88/88 [==============================] - 9s 102ms/step - loss: 0.0105 - mse: 0.0105 - val_loss: 0.0143 - val_mse: 0.0143\n",
      "Epoch 31/40\n",
      "88/88 [==============================] - 9s 108ms/step - loss: 0.0107 - mse: 0.0107 - val_loss: 0.0161 - val_mse: 0.0161\n",
      "Epoch 32/40\n",
      "88/88 [==============================] - 9s 107ms/step - loss: 0.0094 - mse: 0.0094 - val_loss: 0.0164 - val_mse: 0.0164\n",
      "Epoch 33/40\n",
      "88/88 [==============================] - 10s 112ms/step - loss: 0.0095 - mse: 0.0095 - val_loss: 0.0154 - val_mse: 0.0154\n",
      "Epoch 34/40\n",
      "88/88 [==============================] - 10s 110ms/step - loss: 0.0095 - mse: 0.0095 - val_loss: 0.0148 - val_mse: 0.0148\n",
      "Epoch 35/40\n",
      "88/88 [==============================] - 10s 115ms/step - loss: 0.0096 - mse: 0.0096 - val_loss: 0.0151 - val_mse: 0.0151\n",
      "Epoch 36/40\n",
      "88/88 [==============================] - 9s 105ms/step - loss: 0.0095 - mse: 0.0095 - val_loss: 0.0147 - val_mse: 0.0147\n",
      "Epoch 37/40\n",
      "88/88 [==============================] - 10s 110ms/step - loss: 0.0082 - mse: 0.0082 - val_loss: 0.0136 - val_mse: 0.0136\n",
      "Epoch 38/40\n",
      "88/88 [==============================] - 9s 105ms/step - loss: 0.0070 - mse: 0.0070 - val_loss: 0.0251 - val_mse: 0.0251\n",
      "Epoch 39/40\n",
      "88/88 [==============================] - 9s 103ms/step - loss: 0.0102 - mse: 0.0102 - val_loss: 0.0127 - val_mse: 0.0127\n",
      "Epoch 40/40\n",
      "88/88 [==============================] - 9s 106ms/step - loss: 0.0089 - mse: 0.0089 - val_loss: 0.0146 - val_mse: 0.0146\n"
     ]
    }
   ],
   "source": [
    "tl_model.compile(optimizer='adam', loss='mse', metrics=['mse'])\n",
    "tl_model_history = tl_model.fit(X_train_tl, Y_train_tl_norm, epochs=40, validation_data=(X_val_tl, Y_val_tl_norm))"
   ]
  },
  {
   "cell_type": "markdown",
   "metadata": {},
   "source": [
    "#### Learning curve"
   ]
  },
  {
   "cell_type": "code",
   "execution_count": 36,
   "metadata": {},
   "outputs": [
    {
     "data": {
      "image/png": "[encoded data removed]",
      "text/plain": [
       "<Figure size 432x288 with 1 Axes>"
      ]
     },
     "metadata": {
      "needs_background": "light"
     },
     "output_type": "display_data"
    }
   ],
   "source": [
    "plot_mse(tl_model_history)"
   ]
  },
  {
   "cell_type": "code",
   "execution_count": 37,
   "metadata": {},
   "outputs": [
    {
     "name": "stdout",
     "output_type": "stream",
     "text": [
      "20/20 [==============================] - 2s 92ms/step - loss: 0.0179 - mse: 0.0179\n"
     ]
    }
   ],
   "source": [
    "tl_test_loss, tl_test_mse = tl_model.evaluate(X_test_tl, Y_test_tl_norm)"
   ]
  },
  {
   "cell_type": "code",
   "execution_count": 38,
   "metadata": {},
   "outputs": [
    {
     "name": "stdout",
     "output_type": "stream",
     "text": [
      "MSE:\n",
      "Train MSE :0.0084\n",
      "Validation MSE :0.0146\n",
      "Test MSE :0.0179\n"
     ]
    }
   ],
   "source": [
    "print('MSE:')\n",
    "print('Train MSE :{:.4f}'.format(tl_model_history.history.get('mse')[-1]))\n",
    "print('Validation MSE :{:.4f}'.format(tl_model_history.history.get('val_mse')[-1]))\n",
    "print('Test MSE :{:.4f}'.format(tl_test_mse))"
   ]
  },
  {
   "cell_type": "markdown",
   "metadata": {},
   "source": [
    "### Transfer Learned Model - Prediction Example"
   ]
  },
  {
   "cell_type": "markdown",
   "metadata": {},
   "source": [
    "### Stacked images - 1 (Light Blue) and 2 (Dark Blue)"
   ]
  },
  {
   "cell_type": "code",
   "execution_count": 111,
   "metadata": {},
   "outputs": [
    {
     "name": "stderr",
     "output_type": "stream",
     "text": [
      "Clipping input data to the valid range for imshow with RGB data ([0..1] for floats or [0..255] for integers).\n"
     ]
    },
    {
     "data": {
      "text/plain": [
       "<matplotlib.image.AxesImage at 0x7fc14f4423a0>"
      ]
     },
     "execution_count": 111,
     "metadata": {},
     "output_type": "execute_result"
    },
    {
     "data": {
      "image/png": "[encoded data removed]",
      "text/plain": [
       "<Figure size 432x288 with 1 Axes>"
      ]
     },
     "metadata": {
      "needs_background": "light"
     },
     "output_type": "display_data"
    }
   ],
   "source": [
    "plt.imshow(X_test_tl[7])"
   ]
  },
  {
   "cell_type": "markdown",
   "metadata": {},
   "source": [
    "### Predicted angle difference"
   ]
  },
  {
   "cell_type": "code",
   "execution_count": 126,
   "metadata": {},
   "outputs": [
    {
     "name": "stdout",
     "output_type": "stream",
     "text": [
      "[-24.]\n"
     ]
    }
   ],
   "source": [
    "print(np.round((tl_model.predict(X_test_tl)[7])*45))"
   ]
  },
  {
   "cell_type": "markdown",
   "metadata": {},
   "source": [
    "### Actual angle difference"
   ]
  },
  {
   "cell_type": "code",
   "execution_count": 122,
   "metadata": {},
   "outputs": [
    {
     "name": "stdout",
     "output_type": "stream",
     "text": [
      "-24.0\n"
     ]
    }
   ],
   "source": [
    "print(np.round((Y_test_tl_norm[7])*45))"
   ]
  },
  {
   "cell_type": "markdown",
   "metadata": {},
   "source": [
    "# 5.1 Non-sequential model and Fine Tuning\n",
    "## Siamese network"
   ]
  },
  {
   "cell_type": "markdown",
   "metadata": {},
   "source": [
    "- Siamese network uses left and right models, which takes two separate images as inputs respectively.\n",
    "- The features from two models are fused to a layer, after which output layer is added.\n",
    "- MobileNetV2 is used as feature extractor for left and right models of siamese network.\n",
    "- RGB images of size 96x96 are used. \n",
    "- Left and Right mobilenetV2 models in Siamese network require individual images of a pair, passed into the respective models. First image of the pair into left model and second image of the pair into the right model."
   ]
  },
  {
   "cell_type": "code",
   "execution_count": 39,
   "metadata": {},
   "outputs": [],
   "source": [
    "# Resize the normalized RGB images to size 96x96\n",
    "rs_images = resize_square(images_norm)"
   ]
  },
  {
   "cell_type": "code",
   "execution_count": 40,
   "metadata": {},
   "outputs": [],
   "source": [
    "# Function to create RGB image pairs to pass into left and right models of siamese network\n",
    "def image_pairs_siam(starting_positions,img_arr):\n",
    "    pairs = []\n",
    "    labels = []\n",
    "    img_offset_values = np.array(range(-15,16))\n",
    "    for idx in starting_positions:\n",
    "        for j in range(len(img_offset_values)):\n",
    "            img1 = img_arr[idx]\n",
    "            j2 = img_offset_values[j]\n",
    "            i2 = idx+j2\n",
    "            if i2 >= 120:\n",
    "                i2 = i2 % 120\n",
    "            img2 = img_arr[i2]            \n",
    "            pairs.append(np.concatenate((img1,img2),axis=0))\n",
    "            labels.append(j2*3)\n",
    "            \n",
    "    pairs = np.array(pairs)\n",
    "    image_pairs = pairs.reshape((pairs.shape[0],2,96,96,3))\n",
    "    \n",
    "    labels = np.array(labels)\n",
    "    return image_pairs, labels"
   ]
  },
  {
   "cell_type": "markdown",
   "metadata": {},
   "source": [
    "### Image pairs and train, validation, test sets split (90:10:20 - Start positions)"
   ]
  },
  {
   "cell_type": "code",
   "execution_count": 41,
   "metadata": {},
   "outputs": [
    {
     "name": "stdout",
     "output_type": "stream",
     "text": [
      "Total number of pairs:\n",
      "Train : 2790\n",
      "Validation: 310\n",
      "Tets: 620\n",
      "\n",
      "\n",
      "Size of images: 96x96\n",
      "\n",
      "\n",
      "Shape of image pairs:\n",
      "Train: (2790, 2, 96, 96, 3)\n",
      "Validation: (310, 2, 96, 96, 3)\n",
      "Test: (620, 2, 96, 96, 3)\n"
     ]
    }
   ],
   "source": [
    "siam_train, siam_train_lab = image_pairs_siam(train_idx,rs_images)\n",
    "siam_val, siam_val_lab = image_pairs_siam(val_idx,rs_images)\n",
    "siam_test, siam_test_lab = image_pairs_siam(test_idx,rs_images)\n",
    "print('Total number of pairs:')\n",
    "print('Train :', len(siam_train))\n",
    "print('Validation:',len(siam_val))\n",
    "print('Tets:',len(siam_test))\n",
    "print('\\n')\n",
    "print('Size of images: {}x{}'.format(siam_train.shape[2],siam_train.shape[3]))\n",
    "print('\\n')\n",
    "print('Shape of image pairs:')\n",
    "print('Train:',siam_train.shape)\n",
    "print('Validation:',siam_val.shape)\n",
    "print('Test:', siam_test.shape)"
   ]
  },
  {
   "cell_type": "markdown",
   "metadata": {},
   "source": [
    "#### Label values are changed to range [-1,1] for regressor. \n",
    "Each floating value corresponds to values -45 to 45."
   ]
  },
  {
   "cell_type": "code",
   "execution_count": 42,
   "metadata": {},
   "outputs": [],
   "source": [
    "siam_train_norm = np.round((siam_train_lab/45), decimals=2)\n",
    "siam_val_norm = np.round((siam_val_lab/45), decimals=2)\n",
    "siam_test_norm = np.round((siam_test_lab/45), decimals=2)"
   ]
  },
  {
   "cell_type": "markdown",
   "metadata": {},
   "source": [
    "### Mobilenet model for feature extraction (left and right models of siamese network) without the head."
   ]
  },
  {
   "cell_type": "code",
   "execution_count": 43,
   "metadata": {},
   "outputs": [],
   "source": [
    "siam_mob_model = keras.applications.MobileNetV2(\n",
    "    input_shape = (96,96,3),\n",
    "    weights = 'imagenet',\n",
    "    include_top = False\n",
    ")"
   ]
  },
  {
   "cell_type": "markdown",
   "metadata": {},
   "source": [
    "##### Additional 73 layers are removed form the top for better performance and training speed."
   ]
  },
  {
   "cell_type": "code",
   "execution_count": 44,
   "metadata": {},
   "outputs": [],
   "source": [
    "for i in range(73):\n",
    "    siam_mob_model._layers.pop()"
   ]
  },
  {
   "cell_type": "markdown",
   "metadata": {},
   "source": [
    "##### All the layers except the top 18 layers are freezed. Top 18 layers are set trainable for fine tuning purpose."
   ]
  },
  {
   "cell_type": "code",
   "execution_count": 45,
   "metadata": {},
   "outputs": [],
   "source": [
    "for layer in siam_mob_model.layers[:-18]:\n",
    "    layer.trainable = False"
   ]
  },
  {
   "cell_type": "markdown",
   "metadata": {},
   "source": [
    "## Siamese model"
   ]
  },
  {
   "cell_type": "code",
   "execution_count": 46,
   "metadata": {},
   "outputs": [],
   "source": [
    "siam_input_shape = (96, 96, 3)\n",
    "\n",
    "siam_left_input = keras.layers.Input(siam_input_shape)\n",
    "siam_right_input = keras.layers.Input(siam_input_shape)"
   ]
  },
  {
   "cell_type": "code",
   "execution_count": 47,
   "metadata": {},
   "outputs": [],
   "source": [
    "# left and right models of siamese network\n",
    "siam_encoded_l = siam_mob_model(siam_left_input)\n",
    "siam_encoded_r = siam_mob_model(siam_right_input)"
   ]
  },
  {
   "cell_type": "code",
   "execution_count": 48,
   "metadata": {},
   "outputs": [],
   "source": [
    "# fusion layer - fuses the left and right model's output\n",
    "fuse_layer = keras.layers.Concatenate()([siam_encoded_l,siam_encoded_r])\n",
    "\n",
    "x1 = keras.layers.Conv2D(16, (1,1), activation='relu', padding='same')(fuse_layer)\n",
    "x1 = keras.layers.Flatten()(x1)\n",
    "x1 = keras.layers.Dense(120, activation='relu')(x1)\n",
    "x1 = keras.layers.Dense(1, activation='linear')(x1)\n",
    "\n",
    "siamese_model = Model(inputs=[siam_left_input,siam_right_input],outputs=x1)"
   ]
  },
  {
   "cell_type": "code",
   "execution_count": 49,
   "metadata": {},
   "outputs": [
    {
     "name": "stdout",
     "output_type": "stream",
     "text": [
      "Model: \"model_1\"\n",
      "__________________________________________________________________________________________________\n",
      "Layer (type)                    Output Shape         Param #     Connected to                     \n",
      "==================================================================================================\n",
      "input_3 (InputLayer)            [(None, 96, 96, 3)]  0                                            \n",
      "__________________________________________________________________________________________________\n",
      "input_4 (InputLayer)            [(None, 96, 96, 3)]  0                                            \n",
      "__________________________________________________________________________________________________\n",
      "mobilenetv2_1.00_96 (Functional (None, 3, 3, 1280)   192832      input_3[0][0]                    \n",
      "                                                                 input_4[0][0]                    \n",
      "__________________________________________________________________________________________________\n",
      "concatenate (Concatenate)       (None, 3, 3, 2560)   0           mobilenetv2_1.00_96[0][0]        \n",
      "                                                                 mobilenetv2_1.00_96[1][0]        \n",
      "__________________________________________________________________________________________________\n",
      "conv2d_5 (Conv2D)               (None, 3, 3, 16)     40976       concatenate[0][0]                \n",
      "__________________________________________________________________________________________________\n",
      "flatten_3 (Flatten)             (None, 144)          0           conv2d_5[0][0]                   \n",
      "__________________________________________________________________________________________________\n",
      "dense_7 (Dense)                 (None, 120)          17400       flatten_3[0][0]                  \n",
      "__________________________________________________________________________________________________\n",
      "dense_8 (Dense)                 (None, 1)            121         dense_7[0][0]                    \n",
      "==================================================================================================\n",
      "Total params: 251,329\n",
      "Trainable params: 167,041\n",
      "Non-trainable params: 84,288\n",
      "__________________________________________________________________________________________________\n"
     ]
    }
   ],
   "source": [
    "siamese_model.summary()"
   ]
  },
  {
   "cell_type": "code",
   "execution_count": 50,
   "metadata": {},
   "outputs": [
    {
     "name": "stdout",
     "output_type": "stream",
     "text": [
      "Epoch 1/40\n",
      "88/88 [==============================] - 35s 363ms/step - loss: 0.4719 - mse: 0.4719 - val_loss: 0.3044 - val_mse: 0.3044\n",
      "Epoch 2/40\n",
      "88/88 [==============================] - 33s 375ms/step - loss: 0.0919 - mse: 0.0919 - val_loss: 0.2759 - val_mse: 0.2759\n",
      "Epoch 3/40\n",
      "88/88 [==============================] - 35s 400ms/step - loss: 0.0626 - mse: 0.0626 - val_loss: 0.2169 - val_mse: 0.2169\n",
      "Epoch 4/40\n",
      "88/88 [==============================] - 36s 405ms/step - loss: 0.0400 - mse: 0.0400 - val_loss: 0.2041 - val_mse: 0.2041\n",
      "Epoch 5/40\n",
      "88/88 [==============================] - 35s 395ms/step - loss: 0.0332 - mse: 0.0332 - val_loss: 0.1756 - val_mse: 0.1756\n",
      "Epoch 6/40\n",
      "88/88 [==============================] - 32s 367ms/step - loss: 0.0304 - mse: 0.0304 - val_loss: 0.1571 - val_mse: 0.1571\n",
      "Epoch 7/40\n",
      "88/88 [==============================] - 35s 399ms/step - loss: 0.0252 - mse: 0.0252 - val_loss: 0.1173 - val_mse: 0.1173\n",
      "Epoch 8/40\n",
      "88/88 [==============================] - 35s 400ms/step - loss: 0.0243 - mse: 0.0243 - val_loss: 0.1118 - val_mse: 0.1118\n",
      "Epoch 9/40\n",
      "88/88 [==============================] - 37s 421ms/step - loss: 0.0192 - mse: 0.0192 - val_loss: 0.0743 - val_mse: 0.0743\n",
      "Epoch 10/40\n",
      "88/88 [==============================] - 42s 478ms/step - loss: 0.0220 - mse: 0.0220 - val_loss: 0.0670 - val_mse: 0.0670\n",
      "Epoch 11/40\n",
      "88/88 [==============================] - 38s 436ms/step - loss: 0.0216 - mse: 0.0216 - val_loss: 0.0548 - val_mse: 0.0548\n",
      "Epoch 12/40\n",
      "88/88 [==============================] - 36s 405ms/step - loss: 0.0222 - mse: 0.0222 - val_loss: 0.0417 - val_mse: 0.0417\n",
      "Epoch 13/40\n",
      "88/88 [==============================] - 36s 410ms/step - loss: 0.0170 - mse: 0.0170 - val_loss: 0.0331 - val_mse: 0.0331\n",
      "Epoch 14/40\n",
      "88/88 [==============================] - 37s 424ms/step - loss: 0.0227 - mse: 0.0227 - val_loss: 0.0283 - val_mse: 0.0283\n",
      "Epoch 15/40\n",
      "88/88 [==============================] - 37s 422ms/step - loss: 0.0160 - mse: 0.0160 - val_loss: 0.0251 - val_mse: 0.0251\n",
      "Epoch 16/40\n",
      "88/88 [==============================] - 36s 413ms/step - loss: 0.0147 - mse: 0.0147 - val_loss: 0.0256 - val_mse: 0.0256\n",
      "Epoch 17/40\n",
      "88/88 [==============================] - 36s 411ms/step - loss: 0.0151 - mse: 0.0151 - val_loss: 0.0168 - val_mse: 0.0168\n",
      "Epoch 18/40\n",
      "88/88 [==============================] - 39s 441ms/step - loss: 0.0195 - mse: 0.0195 - val_loss: 0.0227 - val_mse: 0.0227\n",
      "Epoch 19/40\n",
      "88/88 [==============================] - 39s 439ms/step - loss: 0.0156 - mse: 0.0156 - val_loss: 0.0223 - val_mse: 0.0223\n",
      "Epoch 20/40\n",
      "88/88 [==============================] - 38s 427ms/step - loss: 0.0170 - mse: 0.0170 - val_loss: 0.0170 - val_mse: 0.0170\n",
      "Epoch 21/40\n",
      "88/88 [==============================] - 36s 410ms/step - loss: 0.0118 - mse: 0.0118 - val_loss: 0.0135 - val_mse: 0.0135\n",
      "Epoch 22/40\n",
      "88/88 [==============================] - 35s 398ms/step - loss: 0.0116 - mse: 0.0116 - val_loss: 0.0136 - val_mse: 0.0136\n",
      "Epoch 23/40\n",
      "88/88 [==============================] - 38s 431ms/step - loss: 0.0145 - mse: 0.0145 - val_loss: 0.0229 - val_mse: 0.0229\n",
      "Epoch 24/40\n",
      "88/88 [==============================] - 37s 417ms/step - loss: 0.0130 - mse: 0.0130 - val_loss: 0.0191 - val_mse: 0.0191\n",
      "Epoch 25/40\n",
      "88/88 [==============================] - 34s 389ms/step - loss: 0.0106 - mse: 0.0106 - val_loss: 0.0179 - val_mse: 0.0179\n",
      "Epoch 26/40\n",
      "88/88 [==============================] - 36s 406ms/step - loss: 0.0125 - mse: 0.0125 - val_loss: 0.0140 - val_mse: 0.0140\n",
      "Epoch 27/40\n",
      "88/88 [==============================] - 38s 438ms/step - loss: 0.0100 - mse: 0.0100 - val_loss: 0.0128 - val_mse: 0.0128\n",
      "Epoch 28/40\n",
      "88/88 [==============================] - 37s 425ms/step - loss: 0.0093 - mse: 0.0093 - val_loss: 0.0129 - val_mse: 0.0129\n",
      "Epoch 29/40\n",
      "88/88 [==============================] - 36s 415ms/step - loss: 0.0106 - mse: 0.0106 - val_loss: 0.0147 - val_mse: 0.0147\n",
      "Epoch 30/40\n",
      "88/88 [==============================] - 36s 415ms/step - loss: 0.0103 - mse: 0.0103 - val_loss: 0.0167 - val_mse: 0.0167\n",
      "Epoch 31/40\n",
      "88/88 [==============================] - 37s 424ms/step - loss: 0.0098 - mse: 0.0098 - val_loss: 0.0171 - val_mse: 0.0171\n",
      "Epoch 32/40\n",
      "88/88 [==============================] - 36s 410ms/step - loss: 0.0087 - mse: 0.0087 - val_loss: 0.0075 - val_mse: 0.0075\n",
      "Epoch 33/40\n",
      "88/88 [==============================] - 36s 411ms/step - loss: 0.0120 - mse: 0.0120 - val_loss: 0.0107 - val_mse: 0.0107\n",
      "Epoch 34/40\n",
      "88/88 [==============================] - 39s 441ms/step - loss: 0.0090 - mse: 0.0090 - val_loss: 0.0078 - val_mse: 0.0078\n",
      "Epoch 35/40\n",
      "88/88 [==============================] - 38s 433ms/step - loss: 0.0091 - mse: 0.0091 - val_loss: 0.0085 - val_mse: 0.0085\n",
      "Epoch 36/40\n",
      "88/88 [==============================] - 36s 405ms/step - loss: 0.0086 - mse: 0.0086 - val_loss: 0.0096 - val_mse: 0.0096\n",
      "Epoch 37/40\n",
      "88/88 [==============================] - 39s 445ms/step - loss: 0.0077 - mse: 0.0077 - val_loss: 0.0093 - val_mse: 0.0093\n",
      "Epoch 38/40\n",
      "88/88 [==============================] - 38s 436ms/step - loss: 0.0110 - mse: 0.0110 - val_loss: 0.0094 - val_mse: 0.0094\n",
      "Epoch 39/40\n",
      "88/88 [==============================] - 37s 418ms/step - loss: 0.0077 - mse: 0.0077 - val_loss: 0.0104 - val_mse: 0.0104\n",
      "Epoch 40/40\n",
      "88/88 [==============================] - 37s 426ms/step - loss: 0.0078 - mse: 0.0078 - val_loss: 0.0127 - val_mse: 0.0127\n"
     ]
    }
   ],
   "source": [
    "siamese_model.compile(optimizer='adam', loss='mse', metrics=['mse'])\n",
    "siamese_model_history = siamese_model.fit([siam_train[:,0],siam_train[:,1]], siam_train_norm, epochs=40,\n",
    "                                      validation_data=([siam_val[:,0], siam_val[:,1]], siam_val_norm))"
   ]
  },
  {
   "cell_type": "markdown",
   "metadata": {},
   "source": [
    "#### Learning curve"
   ]
  },
  {
   "cell_type": "code",
   "execution_count": 51,
   "metadata": {},
   "outputs": [
    {
     "data": {
      "image/png": "[encoded data removed]",
      "text/plain": [
       "<Figure size 432x288 with 1 Axes>"
      ]
     },
     "metadata": {
      "needs_background": "light"
     },
     "output_type": "display_data"
    }
   ],
   "source": [
    "plot_mse(siamese_model_history)"
   ]
  },
  {
   "cell_type": "code",
   "execution_count": 52,
   "metadata": {},
   "outputs": [
    {
     "name": "stdout",
     "output_type": "stream",
     "text": [
      "20/20 [==============================] - 4s 191ms/step - loss: 0.0129 - mse: 0.0129\n"
     ]
    }
   ],
   "source": [
    "s_test_loss, s_test_mse = siamese_model.evaluate([siam_test[:,0],siam_test[:,1]], siam_test_norm)"
   ]
  },
  {
   "cell_type": "code",
   "execution_count": 53,
   "metadata": {},
   "outputs": [
    {
     "name": "stdout",
     "output_type": "stream",
     "text": [
      "MSE:\n",
      "Train MSE :0.0078\n",
      "Validation MSE :0.0127\n",
      "Test MSE :0.0129\n"
     ]
    }
   ],
   "source": [
    "print('MSE:')\n",
    "print('Train MSE :{:.4f}'.format(siamese_model_history.history.get('mse')[-1]))\n",
    "print('Validation MSE :{:.4f}'.format(siamese_model_history.history.get('val_mse')[-1]))\n",
    "print('Test MSE :{:.4f}'.format(s_test_mse))"
   ]
  },
  {
   "cell_type": "markdown",
   "metadata": {},
   "source": [
    "## Siamese model - Prediction example"
   ]
  },
  {
   "cell_type": "markdown",
   "metadata": {},
   "source": [
    "### Image 1"
   ]
  },
  {
   "cell_type": "code",
   "execution_count": 136,
   "metadata": {},
   "outputs": [
    {
     "name": "stderr",
     "output_type": "stream",
     "text": [
      "Clipping input data to the valid range for imshow with RGB data ([0..1] for floats or [0..255] for integers).\n"
     ]
    },
    {
     "data": {
      "text/plain": [
       "<matplotlib.image.AxesImage at 0x7fc13a3624f0>"
      ]
     },
     "execution_count": 136,
     "metadata": {},
     "output_type": "execute_result"
    },
    {
     "data": {
      "image/png": "[encoded data removed]",
      "text/plain": [
       "<Figure size 432x288 with 1 Axes>"
      ]
     },
     "metadata": {
      "needs_background": "light"
     },
     "output_type": "display_data"
    }
   ],
   "source": [
    "plt.imshow(siam_test[10][0])"
   ]
  },
  {
   "cell_type": "markdown",
   "metadata": {},
   "source": [
    "### Image 2"
   ]
  },
  {
   "cell_type": "code",
   "execution_count": 135,
   "metadata": {},
   "outputs": [
    {
     "name": "stderr",
     "output_type": "stream",
     "text": [
      "Clipping input data to the valid range for imshow with RGB data ([0..1] for floats or [0..255] for integers).\n"
     ]
    },
    {
     "data": {
      "text/plain": [
       "<matplotlib.image.AxesImage at 0x7fc14f16df70>"
      ]
     },
     "execution_count": 135,
     "metadata": {},
     "output_type": "execute_result"
    },
    {
     "data": {
      "image/png": "[encoded data removed]",
      "text/plain": [
       "<Figure size 432x288 with 1 Axes>"
      ]
     },
     "metadata": {
      "needs_background": "light"
     },
     "output_type": "display_data"
    }
   ],
   "source": [
    "plt.imshow(siam_test[10][1])"
   ]
  },
  {
   "cell_type": "markdown",
   "metadata": {},
   "source": [
    "### Predicted angle difference"
   ]
  },
  {
   "cell_type": "code",
   "execution_count": 133,
   "metadata": {},
   "outputs": [
    {
     "name": "stdout",
     "output_type": "stream",
     "text": [
      "[-12.]\n"
     ]
    }
   ],
   "source": [
    "print(np.round((siamese_model.predict([siam_test[:,0],siam_test[:,1]])[10])*45))"
   ]
  },
  {
   "cell_type": "markdown",
   "metadata": {},
   "source": [
    "### Actual angle difference"
   ]
  },
  {
   "cell_type": "code",
   "execution_count": 134,
   "metadata": {},
   "outputs": [
    {
     "name": "stdout",
     "output_type": "stream",
     "text": [
      "-15.0\n"
     ]
    }
   ],
   "source": [
    "print(np.round((siam_test_norm[10])*45))"
   ]
  }
 ],
 "metadata": {
  "kernelspec": {
   "display_name": "Python 3",
   "language": "python",
   "name": "python3"
  },
  "language_info": {
   "codemirror_mode": {
    "name": "ipython",
    "version": 3
   },
   "file_extension": ".py",
   "mimetype": "text/x-python",
   "name": "python",
   "nbconvert_exporter": "python",
   "pygments_lexer": "ipython3",
   "version": "3.8.5"
  }
 },
 "nbformat": 4,
 "nbformat_minor": 4
}
